{
  "nbformat": 4,
  "nbformat_minor": 0,
  "metadata": {
    "kernelspec": {
      "display_name": "Python 2",
      "language": "python",
      "name": "python2"
    },
    "language_info": {
      "codemirror_mode": {
        "name": "ipython",
        "version": 2
      },
      "file_extension": ".py",
      "mimetype": "text/x-python",
      "name": "python",
      "nbconvert_exporter": "python",
      "pygments_lexer": "ipython2",
      "version": "2.7.12"
    },
    "colab": {
      "name": "homework_differentiation.ipynb",
      "provenance": []
    }
  },
  "cells": [
    {
      "cell_type": "markdown",
      "metadata": {
        "id": "y0pXQiIEbk3f"
      },
      "source": [
        "# Homework 1: Differentiation"
      ]
    },
    {
      "cell_type": "markdown",
      "metadata": {
        "id": "fByxFI74bk3k"
      },
      "source": [
        "Since it easy to google every task please please please try to undestand what's going on. The \"just answer\" thing will be not counted, make sure to present derivation of your solution. It is absolutely OK if you found an answer on web then just exercise in $\\LaTeX$ copying it into here."
      ]
    },
    {
      "cell_type": "markdown",
      "metadata": {
        "id": "4XIVI44Wbk3l"
      },
      "source": [
        "Useful links: \n",
        "[1](http://www.machinelearning.ru/wiki/images/2/2a/Matrix-Gauss.pdf)\n",
        "[2](http://www.atmos.washington.edu/~dennis/MatrixCalculus.pdf)\n",
        "[3](http://cal.cs.illinois.edu/~johannes/research/matrix%20calculus.pdf)\n",
        "[4](http://research.microsoft.com/en-us/um/people/cmbishop/prml/index.htm)"
      ]
    },
    {
      "cell_type": "markdown",
      "metadata": {
        "id": "x112mfoobk3l"
      },
      "source": [
        "## ex. 1"
      ]
    },
    {
      "cell_type": "markdown",
      "metadata": {
        "id": "wOiObZbxbk3l"
      },
      "source": [
        "$$  \n",
        "y = x^Tx,  \\quad x \\in \\mathbb{R}^N \n",
        "$$"
      ]
    },
    {
      "cell_type": "markdown",
      "metadata": {
        "id": "laqf5fJmbk3m"
      },
      "source": [
        "$$\n",
        "\\frac{dy}{dx} = 2x^T\n",
        "$$ "
      ]
    },
    {
      "cell_type": "markdown",
      "metadata": {
        "id": "i57sFFwVknb6"
      },
      "source": [
        "proof\n",
        "$$ y = \\sum_j x_j^2\\\\\n",
        "\\frac{dy}{dx_j} = 2x_j\\\\\n",
        "\\frac{dy}{dx} = 2x^T $$"
      ]
    },
    {
      "cell_type": "markdown",
      "metadata": {
        "id": "7X5zxQy5bk3m"
      },
      "source": [
        "## ex. 2"
      ]
    },
    {
      "cell_type": "markdown",
      "metadata": {
        "id": "uxPEV6bpbk3n"
      },
      "source": [
        "$$ y = tr(AB) \\quad A,B \\in \\mathbb{R}^{N \\times N} $$ "
      ]
    },
    {
      "cell_type": "markdown",
      "metadata": {
        "id": "lw2nVJQXbk3n"
      },
      "source": [
        "$$\n",
        "\\frac{dy}{dA} = B^T\n",
        "$$"
      ]
    },
    {
      "cell_type": "markdown",
      "metadata": {
        "id": "5ICnds7vqyjH"
      },
      "source": [
        "proof\n",
        "$$\n",
        "tr(AB) = tr(BA) =\\ \\left<B^T, A\\right> = \\sum_{ij}b_{ji}a_{ij}\\\\\n",
        "\\frac{dy}{da_{ij}} = b_{ji} => \\frac{dy}{dA} = B^T\n",
        "$$"
      ]
    },
    {
      "cell_type": "markdown",
      "metadata": {
        "id": "WX6DcuVTbk3n"
      },
      "source": [
        "## ex. 3"
      ]
    },
    {
      "cell_type": "markdown",
      "metadata": {
        "id": "FbGoV14ebk3o"
      },
      "source": [
        "$$  \n",
        "y = x^TAc , \\quad A\\in \\mathbb{R}^{N \\times N}, x\\in \\mathbb{R}^{N}, c\\in \\mathbb{R}^{N} \n",
        "$$"
      ]
    },
    {
      "cell_type": "markdown",
      "metadata": {
        "id": "SO2lTRV0bk3o"
      },
      "source": [
        "$$\n",
        "\\frac{dy}{dx} = (Ac)^T\n",
        "$$"
      ]
    },
    {
      "cell_type": "markdown",
      "metadata": {
        "id": "0ET7Ngqsbk3o"
      },
      "source": [
        "$$\n",
        "\\frac{dy}{dA} = xc^T\n",
        "$$ "
      ]
    },
    {
      "cell_type": "markdown",
      "metadata": {
        "id": "tIIdbKYJbk3o"
      },
      "source": [
        "Hint for the latter (one of the ways): use *ex. 2* result and the fact \n",
        "$$\n",
        "tr(ABC) = tr (CAB)\n",
        "$$"
      ]
    },
    {
      "cell_type": "markdown",
      "metadata": {
        "id": "33o7Nb1YtP65"
      },
      "source": [
        "proof\n",
        "$$\n",
        "y = x^TAc = \\left<x, Ac\\right> = \\left<Ac, x\\right> => \\frac{y}{x_j} = (Ac)_j\\\\\n",
        "\\\\\n",
        "y = tr(x^TAc) = tr(cx^TA) = \\left<xc^T, A\\right> => \\frac{y}{a_{ij}} = (xc^T)_{ij}\n",
        "$$"
      ]
    },
    {
      "cell_type": "markdown",
      "metadata": {
        "id": "T7gsC2oHbk3p"
      },
      "source": [
        "## ex. 4"
      ]
    },
    {
      "cell_type": "markdown",
      "metadata": {
        "id": "GVRWExICbk3p"
      },
      "source": [
        "Classic matrix factorization example. Given matrix $X$ you need to find $A$, $S$ to approximate $X$. This can be done by simple gradient descent iteratively alternating $A$ and $S$ updates.\n",
        "$$\n",
        "J = || X - AS ||_F^2  , \\quad A\\in \\mathbb{R}^{N \\times R} , \\quad S\\in \\mathbb{R}^{R \\times M}\n",
        "$$\n",
        "$$\n",
        "\\frac{dJ}{dS} = ? \n",
        "$$ "
      ]
    },
    {
      "cell_type": "markdown",
      "metadata": {
        "id": "xGjb5iKMbk3p"
      },
      "source": [
        "### First approach\n",
        "Using ex.2 and the fact:\n",
        "$$\n",
        "|| X ||_F^2 = tr(XX^T) \n",
        "$$ \n",
        "it is easy to derive gradients (you can find it in one of the refs). "
      ]
    },
    {
      "cell_type": "markdown",
      "metadata": {
        "collapsed": true,
        "id": "uMAyIpLsbk3p"
      },
      "source": [
        "### Second approach\n",
        "You can use *slightly different techniques* if they suits you. Take a look at this derivation:\n",
        "<img src=\"https://github.com/ReddyNick/Practical_DL/blob/spring21/homework01/grad.png?raw=1\">\n",
        "(excerpt from [Handbook of blind source separation, Jutten, page 517](https://books.google.ru/books?id=PTbj03bYH6kC&printsec=frontcover&dq=Handbook+of+Blind+Source+Separation&hl=en&sa=X&ved=0ahUKEwi-q_apiJDLAhULvXIKHVXJDWcQ6AEIHDAA#v=onepage&q=Handbook%20of%20Blind%20Source%20Separation&f=false), open for better picture)."
      ]
    },
    {
      "cell_type": "markdown",
      "metadata": {
        "collapsed": true,
        "id": "Pe4swJqqbk3q"
      },
      "source": [
        "### Third approach\n",
        "And finally we can use chain rule! **YOUR TURN** to do it.\n",
        "let $ F = AS $ \n",
        "\n",
        "**Find**\n",
        "$$\n",
        "\\frac{dJ}{dF} =\n",
        "$$ \n",
        "and \n",
        "$$\n",
        "\\frac{dF}{dS} =  \n",
        "$$ \n",
        "(the shape should be $ NM \\times RM )$.\n",
        "\n",
        "Now it is easy do get desired gradients:\n",
        "$$\n",
        "\\frac{dJ}{dS} =  \n",
        "$$ "
      ]
    },
    {
      "cell_type": "markdown",
      "metadata": {
        "id": "ndzL_W98AeId"
      },
      "source": [
        "$$\n",
        "J = \\frac{1}{2}||X - AS||^2_F = \\frac{1}{2}\\left(||X||^2_F - 2||AS||^2_F + ||F||^2_F\\right) => \\frac{dJ}{dF} = F - X\\\\\n",
        "\\\\\n",
        "\\\\\n",
        "\\frac{dF_{nm}}{dS_{rk}} = \\frac{(AS)_{nm}}{dS_{rk}} = \\delta_{mk}a_{nr}, \\ \\delta_{mk} - \\text{Kronecker symbol}\\\\\n",
        "\\frac{dJ}{dS_{ij}} = \\sum_{pq}\\frac{dJ}{dF_{pq}}\\frac{dF_{pq}}{dS_{ij}} = \n",
        "\\sum_{pq}\\frac{dJ}{dF_{pq}}\\delta_{qj}a_{pi}=\\sum_{pj}\\frac{dJ}{dF_{pj}}a_{pi} =\n",
        "\\sum_{pj}a^T_{ip}\\frac{dJ}{dF_{pj}} = \\left(A^T(F-X)\\right)_{ij} = \n",
        "\\left(A^TAS - A^TX\\right)_{ij}\n",
        "$$"
      ]
    },
    {
      "cell_type": "code",
      "metadata": {
        "id": "XE-8DwGBFDn7"
      },
      "source": [
        ""
      ],
      "execution_count": null,
      "outputs": []
    }
  ]
}